{
  "cells": [
    {
      "cell_type": "code",
      "execution_count": null,
      "metadata": {
        "id": "eEkf78l3-KHK",
        "outputId": "f2276bc0-38e6-43ac-c66d-872c892f6a60"
      },
      "outputs": [
        {
          "name": "stdout",
          "output_type": "stream",
          "text": [
            "[40, 50, 60, 0, 0, 0]\n"
          ]
        }
      ],
      "source": [
        "#1\n",
        "\n",
        "def shiftLeft(source,k):\n",
        "    for j in range(k):\n",
        "        for i in range(len(source)-1):\n",
        "            source[i]=source[i+1]\n",
        "        source[len(source)-1]=0\n",
        "    print(source)\n",
        "source=[10,20,30,40,50,60]\n",
        "shiftLeft(source,3)\n"
      ],
      "id": "eEkf78l3-KHK"
    },
    {
      "cell_type": "code",
      "execution_count": null,
      "metadata": {
        "id": "DZewFG6c-KHM",
        "outputId": "bb3724d4-fbaa-4a9b-fa21-2d095880bd62"
      },
      "outputs": [
        {
          "name": "stdout",
          "output_type": "stream",
          "text": [
            "[40, 50, 60, 10, 20, 30]\n"
          ]
        }
      ],
      "source": [
        "#2\n",
        "\n",
        "def rotateLeft(source,k):\n",
        "    for i in range(k):\n",
        "        a=source[0]\n",
        "        for j in range(1,len(source)):\n",
        "            source[j-1]=source[j]\n",
        "        source[len(source)-1]=a\n",
        "    print(source)\n",
        "source=[10,20,30,40,50,60]\n",
        "rotateLeft(source,3)\n",
        "\n"
      ],
      "id": "DZewFG6c-KHM"
    },
    {
      "cell_type": "code",
      "execution_count": null,
      "metadata": {
        "id": "Bn2wFJyP-KHM",
        "outputId": "83bf470b-a781-4b90-ee14-bfd0d2ef6ddc"
      },
      "outputs": [
        {
          "name": "stdout",
          "output_type": "stream",
          "text": [
            "[0, 0, 0, 10, 20, 30]\n"
          ]
        }
      ],
      "source": [
        "#3\n",
        "\n",
        "def shiftRight(source,k):\n",
        "    for a in range(k):\n",
        "        for b in range(len(source)-1, 0, -1):\n",
        "            source[b]=source[b-1]\n",
        "        source[0]=0\n",
        "    print(source)\n",
        "source=[10,20,30,40,50,60]\n",
        "shiftRight(source,3)"
      ],
      "id": "Bn2wFJyP-KHM"
    },
    {
      "cell_type": "code",
      "execution_count": null,
      "metadata": {
        "id": "_aDS9sOX-KHM",
        "outputId": "024e37f3-3f60-41bd-f993-336c38c2e7a0"
      },
      "outputs": [
        {
          "name": "stdout",
          "output_type": "stream",
          "text": [
            "[40, 50, 60, 10, 20, 30]\n"
          ]
        }
      ],
      "source": [
        "#4\n",
        "\n",
        "def rotateRight(source,k):\n",
        "    for i in range(k):\n",
        "        a=source[-1]\n",
        "        for j in range(len(source)-1,0,-1):\n",
        "            source[j]=source[j-1]\n",
        "        source[0]=a\n",
        "    print(source)\n",
        "source=[10,20,30,40,50,60]\n",
        "rotateRight(source,3)\n"
      ],
      "id": "_aDS9sOX-KHM"
    },
    {
      "cell_type": "code",
      "execution_count": null,
      "metadata": {
        "id": "xRxNp602-KHM",
        "outputId": "8cf94746-b1a5-487a-ef12-e2e5ccb1e929"
      },
      "outputs": [
        {
          "name": "stdout",
          "output_type": "stream",
          "text": [
            "[10, 20, 40, 50, 0, 0, 0]\n"
          ]
        }
      ],
      "source": [
        "#5\n",
        "\n",
        "def remove(source, size, idx):\n",
        "    a=len(source)*[0]\n",
        "    b=0\n",
        "    for i in range(size):\n",
        "        if i==idx:\n",
        "            continue\n",
        "        else:\n",
        "            a[b]=source[i]\n",
        "            b+=1\n",
        "    source=a\n",
        "    print(source)\n",
        "source=[10, 20, 30, 40, 50, 0, 0]\n",
        "remove(source, 5, 2)"
      ],
      "id": "xRxNp602-KHM"
    },
    {
      "cell_type": "code",
      "execution_count": null,
      "metadata": {
        "id": "yXER8nSJ-KHN",
        "outputId": "1d0e23d8-60a3-4480-f10e-4ee98f48ca68"
      },
      "outputs": [
        {
          "name": "stdout",
          "output_type": "stream",
          "text": [
            "[10, 30, 50, 0, 0, 0, 0, 0, 0]\n"
          ]
        }
      ],
      "source": [
        "#6\n",
        "\n",
        "def removeAll(source, size, element):\n",
        "    a=len(source)*[0]\n",
        "    b=0\n",
        "    for i in source:\n",
        "        if i==element:\n",
        "            continue\n",
        "        else:\n",
        "            a[b]=i\n",
        "        b+=1\n",
        "        if b>=size:\n",
        "            break\n",
        "    source =a\n",
        "    print(source)\n",
        "source = [10, 2, 30, 2, 50, 2, 2, 0, 0]\n",
        "removeAll(source, 7, 2)"
      ],
      "id": "yXER8nSJ-KHN"
    },
    {
      "cell_type": "code",
      "execution_count": null,
      "metadata": {
        "id": "6ws0soJN-KHN",
        "outputId": "1d43c043-6ce8-4cde-a2d3-5620cf31f21c"
      },
      "outputs": [
        {
          "name": "stdout",
          "output_type": "stream",
          "text": [
            "True\n"
          ]
        }
      ],
      "source": [
        "#7\n",
        "\n",
        "def array(A):\n",
        "    z=[]\n",
        "    e=[]\n",
        "    Output=None\n",
        "    for i in range(len(A)):\n",
        "        z=A[0:i+1]\n",
        "        e=A[i+1:(len(A))]\n",
        "        if sum(z)==sum(e):\n",
        "            Output=True\n",
        "            break\n",
        "        else:\n",
        "            Output=False\n",
        "    print(Output)\n",
        "A=[10, 3, 1, 2, 10]\n",
        "array(A)"
      ],
      "id": "6ws0soJN-KHN"
    },
    {
      "cell_type": "code",
      "execution_count": null,
      "metadata": {
        "id": "v_DE__FI-KHN",
        "outputId": "367ff339-7c56-451a-9a06-8cb390fcde36"
      },
      "outputs": [
        {
          "name": "stdout",
          "output_type": "stream",
          "text": [
            "Input a number: n= 4\n",
            "[0, 0, 0, 1, 0, 0, 2, 1, 0, 3, 2, 1, 4, 3, 2, 1]\n"
          ]
        }
      ],
      "source": [
        "#8\n",
        "\n",
        "def arr_series(n):\n",
        "    a=(n * n)*[0]\n",
        "    p=n\n",
        "    for i in range(1,n+1):\n",
        "        q=n*n-i\n",
        "        for j in range(1,p+1):\n",
        "            a[q]=i\n",
        "            q-=n\n",
        "        p-=1\n",
        "    return a\n",
        "print(arr_series(int(input(\"Input a number: n= \"))))"
      ],
      "id": "v_DE__FI-KHN"
    },
    {
      "cell_type": "code",
      "execution_count": null,
      "metadata": {
        "id": "-aWUvl34-KHN",
        "outputId": "e249b3f0-44e6-4f7b-baf9-5e73c26dc97a"
      },
      "outputs": [
        {
          "name": "stdout",
          "output_type": "stream",
          "text": [
            "4\n"
          ]
        }
      ],
      "source": [
        "#9\n",
        "\n",
        "def Max_Bunch_Count(arr):\n",
        "    lst=[]\n",
        "    a=arr[0]\n",
        "    p=0\n",
        "    for i in arr:\n",
        "        if i==a:\n",
        "            p+=1\n",
        "\n",
        "        else:\n",
        "            a=i\n",
        "            p=1\n",
        "        lst.append(p)\n",
        "    print(max(lst))\n",
        "arr=[1,1,2, 2, 1, 1,1,1]\n",
        "Max_Bunch_Count(arr)"
      ],
      "id": "-aWUvl34-KHN"
    },
    {
      "cell_type": "code",
      "execution_count": null,
      "metadata": {
        "id": "CVTaivr6-KHN",
        "outputId": "dc1113a8-c282-43a9-86f1-67d72219a2da"
      },
      "outputs": [
        {
          "name": "stdout",
          "output_type": "stream",
          "text": [
            "False\n"
          ]
        }
      ],
      "source": [
        "#10\n",
        "\n",
        "def repetition(arr):\n",
        "    uarr=[0]*len(arr)\n",
        "    rarr =[0]*len(arr)\n",
        "    a=0\n",
        "    c=0\n",
        "    for i in arr:\n",
        "        if i not in uarr:\n",
        "            uarr[a] = i\n",
        "            a+=1\n",
        "    #print(uarr)\n",
        "    a=0\n",
        "    for i in range(len(uarr)):\n",
        "        for j in range(len(arr)):\n",
        "            if uarr[i]==arr[j]:\n",
        "                c+=1\n",
        "        rarr[a] =c\n",
        "        a+=1\n",
        "        c=0\n",
        "    #print(rarr)\n",
        "    for i in range(len(rarr)):\n",
        "        for j in range(i + 1, len(rarr)):\n",
        "            if rarr[i] == rarr[j] and rarr[i] > 1:\n",
        "                return True\n",
        "    else:\n",
        "        return False\n",
        "arr=[3,4,6,3,4,7,4,6,8,6,6]\n",
        "print(repetition(arr))\n"
      ],
      "id": "CVTaivr6-KHN"
    }
  ],
  "metadata": {
    "kernelspec": {
      "display_name": "Python 3",
      "language": "python",
      "name": "python3"
    },
    "language_info": {
      "codemirror_mode": {
        "name": "ipython",
        "version": 3
      },
      "file_extension": ".py",
      "mimetype": "text/x-python",
      "name": "python",
      "nbconvert_exporter": "python",
      "pygments_lexer": "ipython3",
      "version": "3.8.5"
    },
    "colab": {
      "provenance": []
    }
  },
  "nbformat": 4,
  "nbformat_minor": 5
}