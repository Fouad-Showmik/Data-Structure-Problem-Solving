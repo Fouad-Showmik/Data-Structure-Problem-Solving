{
  "nbformat": 4,
  "nbformat_minor": 0,
  "metadata": {
    "colab": {
      "provenance": []
    },
    "kernelspec": {
      "name": "python3",
      "display_name": "Python 3"
    },
    "language_info": {
      "name": "python"
    }
  },
  "cells": [
    {
      "cell_type": "code",
      "execution_count": null,
      "metadata": {
        "colab": {
          "base_uri": "https://localhost:8080/"
        },
        "id": "ow_tOV2ScS62",
        "outputId": "0fbc7f7b-58da-40ce-9a58-631fecd047bb"
      },
      "outputs": [
        {
          "output_type": "stream",
          "name": "stdout",
          "text": [
            "120\n"
          ]
        }
      ],
      "source": [
        "#1/a\n",
        "\n",
        "def fact(n):\n",
        "  if n==1 or n==0:\n",
        "    return 1\n",
        "  else:\n",
        "    return n*fact(n-1)\n",
        "\n",
        "print(fact(5))\n",
        "print(\"==========\")"
      ]
    },
    {
      "cell_type": "code",
      "source": [
        "#1/b\n",
        "\n",
        "def fibonacci(n):\n",
        "  if n==0:\n",
        "    return 0\n",
        "  elif n==1:\n",
        "    return 1\n",
        "  else:\n",
        "    return fibonacci(n-2)+fibonacci(n-1)\n",
        "\n",
        "print(fibonacci(6))\n",
        "print(\"==========\")"
      ],
      "metadata": {
        "colab": {
          "base_uri": "https://localhost:8080/"
        },
        "id": "CUzNpDYjc1jB",
        "outputId": "112004ae-2033-4422-bc58-59a92ed23d59"
      },
      "execution_count": null,
      "outputs": [
        {
          "output_type": "stream",
          "name": "stdout",
          "text": [
            "8\n"
          ]
        }
      ]
    },
    {
      "cell_type": "code",
      "source": [
        "#1/c\n",
        "\n",
        "def array(arr,idx):\n",
        "  if idx==len(arr):\n",
        "    return None\n",
        "  else:\n",
        "    if idx==len(arr)-1:\n",
        "      print(arr[idx],end=\".\")\n",
        "    else:\n",
        "      print(arr[idx],end=\",\")\n",
        "    array(arr,idx+1)\n",
        "\n",
        "arr=[10,20,30,40]\n",
        "\n",
        "print(array(arr,0))\n",
        "print(\"==========\")"
      ],
      "metadata": {
        "colab": {
          "base_uri": "https://localhost:8080/"
        },
        "id": "EATvCtUMdhc3",
        "outputId": "4db6a586-6a82-452f-e61d-e406cb566d47"
      },
      "execution_count": null,
      "outputs": [
        {
          "output_type": "stream",
          "name": "stdout",
          "text": [
            "10,20,30,40.None\n"
          ]
        }
      ]
    },
    {
      "cell_type": "code",
      "source": [
        "#1/d\n",
        "\n",
        "def square(ele,sq):\n",
        "  if sq==0 or ele==1:\n",
        "    return 1\n",
        "  elif ele==0:\n",
        "    return 0\n",
        "  else:\n",
        "    return ele*square(ele,sq-1)\n",
        "\n",
        "print(square(3,3))\n",
        "print(\"==========\")"
      ],
      "metadata": {
        "colab": {
          "base_uri": "https://localhost:8080/"
        },
        "id": "kEp7uXq7fArA",
        "outputId": "53864f70-5631-451c-9b84-c46dfb224e0a"
      },
      "execution_count": null,
      "outputs": [
        {
          "output_type": "stream",
          "name": "stdout",
          "text": [
            "27\n"
          ]
        }
      ]
    },
    {
      "cell_type": "code",
      "source": [
        "#just practise in lab class\n",
        "\n",
        "def sum(n):\n",
        "  if n==1:\n",
        "    return 1\n",
        "  else:\n",
        "    return n+sum(n-1)\n",
        "print(sum(6))\n",
        "print(\"==========\")"
      ],
      "metadata": {
        "colab": {
          "base_uri": "https://localhost:8080/"
        },
        "id": "MDF4RpeegVkJ",
        "outputId": "ac9fb2e6-0e3c-4e81-ccb3-84364635efdf"
      },
      "execution_count": null,
      "outputs": [
        {
          "output_type": "stream",
          "name": "stdout",
          "text": [
            "21\n"
          ]
        }
      ]
    },
    {
      "cell_type": "code",
      "source": [
        "#2/a\n",
        "\n",
        "def convertbin(n):\n",
        "    if n==0:\n",
        "        return \"\"\n",
        "    else:\n",
        "        b=(n%2)\n",
        "        return str(convertbin(int(n//2)))+str(b)\n",
        "\n",
        "print(convertbin(4))\n",
        "\n",
        "print('==========')\n",
        "\n",
        "#2/b\n",
        "class Node:\n",
        "    def __init__(self, e, n):\n",
        "        self.e = e\n",
        "        self.next = n\n",
        "\n",
        "class Linear_List:\n",
        "  def __init__(self,a):\n",
        "    self.head = None\n",
        "    tail=None\n",
        "    if type(a)==list:\n",
        "      for i in range(len(a)):\n",
        "        new_node=Node(a[i],None)\n",
        "        if self.head==None:\n",
        "          self.head=new_node\n",
        "          tail=new_node\n",
        "        else:\n",
        "          tail.next=new_node\n",
        "          tail=new_node\n",
        "    else:\n",
        "      self.head=a\n",
        "the_list=[10,20,30,40,50]\n",
        "new_the_list=Linear_List(the_list)\n",
        "\n",
        "def adder(new_the_list):\n",
        "    if new_the_list==None:\n",
        "        return 0\n",
        "    else:\n",
        "        return new_the_list.e + adder(new_the_list.next)\n",
        "\n",
        "print(adder(new_the_list.head))\n",
        "\n",
        "print('==========')\n",
        "\n",
        "#2/c\n",
        "def reversed_linked_list(new_the_list):\n",
        "    if new_the_list==None:\n",
        "        return ''\n",
        "    else:\n",
        "        reversed_linked_list(new_the_list.next)\n",
        "        print(new_the_list.e,end=\" \")\n",
        "\n",
        "print(reversed_linked_list(new_the_list.head))\n",
        "print('=========')"
      ],
      "metadata": {
        "id": "5LJ5ZU_SpG_K",
        "colab": {
          "base_uri": "https://localhost:8080/"
        },
        "outputId": "d520a3e8-8c06-4ef0-f3b2-5006ba30cb14"
      },
      "execution_count": null,
      "outputs": [
        {
          "output_type": "stream",
          "name": "stdout",
          "text": [
            "100\n",
            "==========\n",
            "150\n",
            "==========\n",
            "50 40 30 20 10 None\n"
          ]
        }
      ]
    },
    {
      "cell_type": "code",
      "source": [
        "#3/a\n",
        "\n",
        "def hocBuilder(height):\n",
        "    if height==0:\n",
        "        return 0\n",
        "    elif height==1:\n",
        "        return 8\n",
        "    else:\n",
        "        return hocBuilder(height-1)+5\n",
        "\n",
        "print(hocBuilder(3))\n",
        "print(\"==========\")"
      ],
      "metadata": {
        "colab": {
          "base_uri": "https://localhost:8080/"
        },
        "id": "JX7mbrQX5wYf",
        "outputId": "98487f78-f6bf-4cd3-91d0-039fc8d540e8"
      },
      "execution_count": null,
      "outputs": [
        {
          "output_type": "stream",
          "name": "stdout",
          "text": [
            "18\n"
          ]
        }
      ]
    },
    {
      "cell_type": "code",
      "source": [
        "#4/a\n",
        "\n",
        "def number(a,b):\n",
        "    if b==a:\n",
        "        return \"\"\n",
        "    elif a==0:\n",
        "        return \"\"\n",
        "    print(b,end=' ')\n",
        "    number(a,b+1)\n",
        "\n",
        "def the_line(c,d=0):\n",
        "    if c==0:\n",
        "        return \"\"\n",
        "    b=1\n",
        "    number(d+2,1)\n",
        "    print()\n",
        "    the_line(c-1,d+1)\n",
        "\n",
        "print(the_line(5))\n",
        "\n",
        "print(\"=========\")"
      ],
      "metadata": {
        "colab": {
          "base_uri": "https://localhost:8080/"
        },
        "id": "695Fk-lj5wjO",
        "outputId": "1eb64b84-4b64-4ba7-d7a4-f1f37d56b005"
      },
      "execution_count": null,
      "outputs": [
        {
          "output_type": "stream",
          "name": "stdout",
          "text": [
            "1 \n",
            "1 2 \n",
            "1 2 3 \n",
            "1 2 3 4 \n",
            "1 2 3 4 5 \n",
            "None\n",
            "=========\n"
          ]
        }
      ]
    },
    {
      "cell_type": "code",
      "source": [
        "#4/b\n",
        "def gap(e,f):\n",
        "    if e==f:\n",
        "        return ''\n",
        "    elif e==0:\n",
        "        return\n",
        "    print(' ',end=' ')\n",
        "    gap(e,f+1)\n",
        "\n",
        "def number(a,b):\n",
        "    if b==a:\n",
        "        return \"\"\n",
        "    elif a==0:\n",
        "        return \"\"\n",
        "    print(b,end=' ')\n",
        "    number(a,b+1)\n",
        "\n",
        "def the_line(c,d=0):\n",
        "    if c==0:\n",
        "        return \"\"\n",
        "    b=1\n",
        "    gap(c-b+1,1)\n",
        "    number(d+2,1)\n",
        "    print()\n",
        "    the_line(c-1,d+1)\n",
        "\n",
        "print(the_line(5))\n",
        "print('=========')"
      ],
      "metadata": {
        "colab": {
          "base_uri": "https://localhost:8080/"
        },
        "id": "RPAG-G_DIZxB",
        "outputId": "af17e6da-9769-445b-f5f5-d80acaa3d797"
      },
      "execution_count": null,
      "outputs": [
        {
          "output_type": "stream",
          "name": "stdout",
          "text": [
            "        1 \n",
            "      1 2 \n",
            "    1 2 3 \n",
            "  1 2 3 4 \n",
            "1 2 3 4 5 \n",
            "None\n",
            "=========\n"
          ]
        }
      ]
    },
    {
      "cell_type": "code",
      "source": [
        "#5\n",
        "\n",
        "class FinalQ:\n",
        "    def print(self,array,idx):\n",
        "        if(idx<len(array)):\n",
        "            profit = self.calcProfit(array[idx]) #TO DO\n",
        "            print('Investment: ',array[idx],\"Profit: \",profit)\n",
        "\n",
        "    def calcProfit(self,investment):\n",
        "\n",
        "        if investment== 25000:\n",
        "            return 0\n",
        "        elif investment<=100000:\n",
        "            return 4.5+self.calcProfit(investment-100)\n",
        "        else:\n",
        "            return 8+self.calcProfit(investment-100)\n",
        "\n",
        "\n",
        "\n",
        "#Tester\n",
        "array=[25000,100000,250000,350000]\n",
        "f = FinalQ()\n",
        "f.print(array,0)\n",
        "f.print(array,1)\n",
        "f.print(array,2)\n",
        "f.print(array,3)"
      ],
      "metadata": {
        "colab": {
          "base_uri": "https://localhost:8080/"
        },
        "id": "bfc5Cmo95wtP",
        "outputId": "00069e88-e7c7-4166-921f-cf7b6041f4e0"
      },
      "execution_count": null,
      "outputs": [
        {
          "output_type": "stream",
          "name": "stdout",
          "text": [
            "Investment:  25000 Profit:  0\n",
            "Investment:  100000 Profit:  3375.0\n",
            "Investment:  250000 Profit:  15375.0\n",
            "Investment:  350000 Profit:  23375.0\n"
          ]
        }
      ]
    }
  ]
}