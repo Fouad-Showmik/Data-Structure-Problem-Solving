{
  "nbformat": 4,
  "nbformat_minor": 0,
  "metadata": {
    "colab": {
      "provenance": []
    },
    "kernelspec": {
      "name": "python3",
      "display_name": "Python 3"
    },
    "language_info": {
      "name": "python"
    }
  },
  "cells": [
    {
      "cell_type": "code",
      "execution_count": null,
      "metadata": {
        "colab": {
          "base_uri": "https://localhost:8080/"
        },
        "id": "1-FkUN-WS9ES",
        "outputId": "3c323676-4d89-4bcd-dda7-418fd3c364e6"
      },
      "outputs": [
        {
          "output_type": "stream",
          "name": "stdout",
          "text": [
            "Didn't got:  0\n",
            "[-6, 1, 2, 3, 5, 6]\n"
          ]
        }
      ],
      "source": [
        "#1\n",
        "class KeyIndex:\n",
        "    def __init__(self, d):\n",
        "        self.d = d\n",
        "        self.m = d[0]\n",
        "        self.m = d[0]\n",
        "        self.flag = False\n",
        "\n",
        "        for i in self.d:\n",
        "            if i < self.m:\n",
        "                self.m = i\n",
        "\n",
        "            if i > self.m:\n",
        "                self.m = i\n",
        "\n",
        "            if i < 0:\n",
        "                self.flag = True\n",
        "        if self.m < 0:\n",
        "            self.pos = abs(self.m)\n",
        "        else:\n",
        "          self.pos = self.m\n",
        "        if self.flag is True:\n",
        "            self.ax = [0] * (self.m + self.pos + 1)\n",
        "        else:\n",
        "            self.ax = [0] * (self.m+ 1)\n",
        "        for j in d:\n",
        "            t = j + self.pos\n",
        "            self.ax[t] += 1\n",
        "\n",
        "    def sorting(self):\n",
        "        p = 0\n",
        "        self.s = [0] * len(self.d)\n",
        "        for i in range(len(self.ax)):\n",
        "            if self.ax[i] > 0:\n",
        "                for j in range(self.ax[i]):\n",
        "                    self.s[p] = i - self.pos\n",
        "                    p += 1\n",
        "        print(self.s)\n",
        "\n",
        "    def searching(self, f):\n",
        "        if self.flag is True:\n",
        "            if self.ax[f + self.pos] > 0:\n",
        "                print('Got: ', f)\n",
        "            else:\n",
        "                print(\"Didn't got: \", f)\n",
        "        else:\n",
        "            if self.ax[f] > 0:\n",
        "                print('Got: ', f)\n",
        "            else:\n",
        "                print(\"Didn't got: \",f)\n",
        "\n",
        "array = [2, -6, 5, 3, 1, 6]\n",
        "b = KeyIndex(array)\n",
        "b.searching(0)\n",
        "b.sorting()\n"
      ]
    },
    {
      "cell_type": "code",
      "source": [
        "#2\n",
        "def Hashing(a):\n",
        "    h = [0] * 9\n",
        "    b= 0\n",
        "    v = 0\n",
        "    for s in a:\n",
        "        for ch in s:\n",
        "            if \"A\" <= ch <= \"Z\" and ch not in 'AEIOU':\n",
        "                b += 1\n",
        "            elif \"0\" <= ch <= \"9\":\n",
        "                v+=int(ch)\n",
        "        val = ( b * 24 + v) % 9\n",
        "        if h[val] != 0:\n",
        "            flag = True\n",
        "            while flag is True:\n",
        "                if h[val] == 0:\n",
        "                    h[val] = s\n",
        "                    break\n",
        "                val = (val + 1) % len(h)\n",
        "        else:\n",
        "            h[val] = s\n",
        "        b = 0\n",
        "        v= 0\n",
        "    print(h)\n",
        "\n",
        "array = [\"Iftekhar\", \"Faiyaz\", \"Ruhan\", \"Sreezon\", \"Udoy\",\"Miad\", \"Shoumik\",\"Tanvir\",\"Soumesh\"]\n",
        "Hashing(array)"
      ],
      "metadata": {
        "colab": {
          "base_uri": "https://localhost:8080/"
        },
        "id": "MsEZUve7S-Il",
        "outputId": "5aa19fa9-8d00-41a3-9e73-041ec19da7c7"
      },
      "execution_count": null,
      "outputs": [
        {
          "output_type": "stream",
          "name": "stdout",
          "text": [
            "['Udoy', 'Fahad', 'Shoumik', 'Tanvir', 'ST1E89B8A32', 'Soumesh', 'Faiyaz', 'Ruhan', 'Sreezon']\n"
          ]
        }
      ]
    },
    {
      "cell_type": "code",
      "source": [],
      "metadata": {
        "id": "_zibH5VxXwHp"
      },
      "execution_count": null,
      "outputs": []
    }
  ]
}